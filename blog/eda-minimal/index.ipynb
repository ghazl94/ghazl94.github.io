{
 "cells": [
  {
   "cell_type": "markdown",
   "id": "minimal-cell",
   "metadata": {},
   "source": [
    "# Minimal EDA Notebook\n",
    "\n",
    "This is a simplified version for testing."
   ]
  },
  {
   "cell_type": "code",
   "execution_count": null,
   "id": "minimal-code",
   "metadata": {},
   "outputs": [],
   "source": [
    "import pandas as pd\n",
    "import numpy as np\n",
    "\n",
    "# Create a simple DataFrame\n",
    "df = pd.DataFrame({\n",
    "    'A': np.random.rand(5),\n",
    "    'B': np.random.rand(5)\n",
    "})\n",
    "\n",
    "print(df)"
   ]
  }
 ],
 "metadata": {
  "kernelspec": {
   "display_name": "Python 3",
   "language": "python",
   "name": "python3"
  },
  "language_info": {
   "name": "python",
   "version": "3.12.0"
  },
  "nikola": {
   "category": "",
   "date": "2025-03-01 14:59:29 UTC",
   "description": "",
   "link": "",
   "slug": "eda-minimal",
   "tags": "",
   "title": "Minimal EDA",
   "type": "text"
  }
 },
 "nbformat": 4,
 "nbformat_minor": 5
}
