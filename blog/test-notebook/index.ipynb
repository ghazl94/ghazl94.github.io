{
 "cells": [
  {
   "cell_type": "markdown",
   "id": "2231c708",
   "metadata": {},
   "source": [
    "Write your post here."
   ]
  }
 ],
 "metadata": {
  "kernelspec": {
   "display_name": "Python 3 (ipykernel)",
   "env": {},
   "interrupt_mode": "signal",
   "language": "python",
   "metadata": {
    "debugger": true
   },
   "name": "python3"
  },
  "nikola": {
   "category": "",
   "date": "2025-03-01 14:59:29 UTC",
   "description": "",
   "link": "",
   "slug": "test-notebook",
   "tags": "",
   "title": "test notebook",
   "type": "text"
  }
 },
 "nbformat": 4,
 "nbformat_minor": 5
}
