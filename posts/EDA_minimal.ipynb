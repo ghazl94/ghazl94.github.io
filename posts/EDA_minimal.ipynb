{
 "cells": [
  {
   "cell_type": "markdown",
   "id": "minimal-cell",
   "metadata": {},
   "source": [
    "# Minimal EDA Notebook\n",
    "\n",
    "This is a simplified version for testing."
   ]
  },
  {
   "cell_type": "code",
   "execution_count": null,
   "id": "minimal-code",
   "metadata": {},
   "outputs": [],
   "source": [
    "import pandas as pd\n",
    "import numpy as np\n",
    "\n",
    "# Create a simple DataFrame\n",
    "df = pd.DataFrame({\n",
    "    'A': np.random.rand(5),\n",
    "    'B': np.random.rand(5)\n",
    "})\n",
    "\n",
    "print(df)"
   ]
  },
  {
   "cell_type": "markdown",
   "id": "added-cell-1",
   "metadata": {},
   "source": [
    "## LOAD DATA "
   ]
  },
  {
   "cell_type": "code",
   "execution_count": null,
   "id": "added-code-1",
   "metadata": {},
   "outputs": [],
   "source": [
    "df = pd.read_csv(\"http://www.ishelp.info/data/insurance.csv\")"
   ]
  },
  {
   "cell_type": "markdown",
   "id": "added-cell-2",
   "metadata": {},
   "source": [
    "# SUMMARY_OF_DATA"
   ]
  },
  {
   "cell_type": "code",
   "execution_count": null,
   "id": "added-code-2",
   "metadata": {},
   "outputs": [],
   "source": [
    "# Display basic info\n",
    "print(df.shape)\n",
    "print(df.columns)\n",
    "df.head()"
   ]
  }
 ],
 "metadata": {
  "kernelspec": {
   "display_name": "Python 3",
   "language": "python",
   "name": "python3"
  },
  "language_info": {
   "codemirror_mode": {
    "name": "ipython",
    "version": 3
   },
   "file_extension": ".py",
   "mimetype": "text/x-python",
   "name": "python",
   "nbconvert_exporter": "python",
   "pygments_lexer": "ipython3",
   "version": "3.12.0"
  },
  "nikola": {
   "category": "",
   "date": "2025-03-01 14:59:29 UTC",
   "description": "",
   "link": "",
   "slug": "eda-minimal-extended",
   "tags": "",
   "title": "Minimal EDA Extended",
   "type": "text"
  }
 },
 "nbformat": 4,
 "nbformat_minor": 5
}
