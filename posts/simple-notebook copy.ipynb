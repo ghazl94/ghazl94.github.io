{
 "cells": [
  {
   "cell_type": "markdown",
   "id": "first-cell",
   "metadata": {},
   "source": [
    "# Simple Notebook Test\n",
    "\n",
    "This is a very simple notebook to test the Nikola blog setup."
   ]
  },
  {
   "cell_type": "code",
   "execution_count": null,
   "id": "simple-code",
   "metadata": {},
   "outputs": [],
   "source": [
    "print(\"Hello from Nikola!\")"
   ]
  }
 ],
 "metadata": {
  "kernelspec": {
   "display_name": "Python 3",
   "language": "python",
   "name": "python3"
  },
  "language_info": {
   "name": "python",
   "version": "3.12.0"
  },
  "nikola": {
   "category": "",
   "date": "2025-03-01 14:59:29 UTC",
   "description": "",
   "link": "",
   "slug": "simple-notebook",
   "tags": "",
   "title": "Simple Notebook",
   "type": "text"
  }
 },
 "nbformat": 4,
 "nbformat_minor": 5
}
